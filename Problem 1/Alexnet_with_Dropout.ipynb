{
  "nbformat": 4,
  "nbformat_minor": 0,
  "metadata": {
    "colab": {
      "provenance": [],
      "gpuType": "T4"
    },
    "kernelspec": {
      "name": "python3",
      "display_name": "Python 3"
    },
    "language_info": {
      "name": "python"
    },
    "accelerator": "GPU"
  },
  "cells": [
    {
      "cell_type": "code",
      "execution_count": 1,
      "metadata": {
        "id": "zVANKirkgSoF"
      },
      "outputs": [],
      "source": [
        "import datetime\n",
        "import numpy as np\n",
        "import os\n",
        "import tensorflow as tf\n",
        "import matplotlib.pyplot as plt\n",
        "from tqdm import tqdm\n",
        "\n",
        "from tensorflow.keras import Model\n",
        "from tensorflow.keras.models import Sequential\n",
        "from tensorflow.keras.utils import to_categorical\n",
        "from tensorflow.keras.losses import categorical_crossentropy\n",
        "from tensorflow.keras.preprocessing.image import ImageDataGenerator\n",
        "from tensorflow.keras.layers import Dense, Flatten, Conv2D, MaxPooling2D, Dropout"
      ]
    },
    {
      "cell_type": "code",
      "source": [
        "import keras\n",
        "# Load and preprocess data\n",
        "(x_train, y_train), (x_test, y_test) = keras.datasets.cifar10.load_data()\n",
        "x_train, x_test = x_train / 255.0, x_test / 255.0\n",
        "y_train = keras.utils.to_categorical(y_train, 10)\n",
        "y_test = keras.utils.to_categorical(y_test, 10)"
      ],
      "metadata": {
        "id": "q1jKg8iHgX-I",
        "colab": {
          "base_uri": "https://localhost:8080/"
        },
        "outputId": "509c975d-4203-4098-a369-be7a80137831"
      },
      "execution_count": 2,
      "outputs": [
        {
          "output_type": "stream",
          "name": "stdout",
          "text": [
            "Downloading data from https://www.cs.toronto.edu/~kriz/cifar-10-python.tar.gz\n",
            "170498071/170498071 [==============================] - 2s 0us/step\n"
          ]
        }
      ]
    },
    {
      "cell_type": "code",
      "source": [
        "#Define Alexnet Model\n",
        "def AlexnetModel(input_shape,num_classes):\n",
        "  model = Sequential()\n",
        "  model.add(Conv2D(filters=96,kernel_size=(3,3),strides=(4,4),input_shape=input_shape, activation='relu'))\n",
        "  model.add(MaxPooling2D(pool_size=(2,2),strides=(2,2)))\n",
        "  model.add(Conv2D(256,(5,5),padding='same',activation='relu'))\n",
        "  model.add(MaxPooling2D(pool_size=(2,2),strides=(2,2)))\n",
        "  model.add(Conv2D(384,(3,3),padding='same',activation='relu'))\n",
        "  model.add(Conv2D(384,(3,3),padding='same',activation='relu'))\n",
        "  model.add(Conv2D(256,(3,3),padding='same',activation='relu'))\n",
        "  model.add(MaxPooling2D(pool_size=(2,2),strides=(2,2)))\n",
        "\n",
        "  model.add(Flatten())\n",
        "  model.add(Dense(4096, activation='relu'))\n",
        "  model.add(Dropout(0.4))\n",
        "  model.add(Dense(4096, activation='relu'))\n",
        "  model.add(Dropout(0.4))\n",
        "  model.add(Dense(num_classes,activation='softmax'))\n",
        "\n",
        "  model.compile(optimizer='adam',loss='categorical_crossentropy',metrics=['accuracy'])\n",
        "\n",
        "  return model"
      ],
      "metadata": {
        "id": "HV8XzcXCgaqQ"
      },
      "execution_count": 11,
      "outputs": []
    },
    {
      "cell_type": "code",
      "source": [
        "num_classes = 10\n",
        "model = AlexnetModel((32, 32, 3), num_classes)\n",
        "model.summary()"
      ],
      "metadata": {
        "colab": {
          "base_uri": "https://localhost:8080/"
        },
        "id": "OWmSkRc1gi2O",
        "outputId": "c6278695-1f2a-4b91-e334-cabde1a9f675"
      },
      "execution_count": 12,
      "outputs": [
        {
          "output_type": "stream",
          "name": "stdout",
          "text": [
            "Model: \"sequential_1\"\n",
            "_________________________________________________________________\n",
            " Layer (type)                Output Shape              Param #   \n",
            "=================================================================\n",
            " conv2d_5 (Conv2D)           (None, 8, 8, 96)          2688      \n",
            "                                                                 \n",
            " max_pooling2d_3 (MaxPoolin  (None, 4, 4, 96)          0         \n",
            " g2D)                                                            \n",
            "                                                                 \n",
            " conv2d_6 (Conv2D)           (None, 4, 4, 256)         614656    \n",
            "                                                                 \n",
            " max_pooling2d_4 (MaxPoolin  (None, 2, 2, 256)         0         \n",
            " g2D)                                                            \n",
            "                                                                 \n",
            " conv2d_7 (Conv2D)           (None, 2, 2, 384)         885120    \n",
            "                                                                 \n",
            " conv2d_8 (Conv2D)           (None, 2, 2, 384)         1327488   \n",
            "                                                                 \n",
            " conv2d_9 (Conv2D)           (None, 2, 2, 256)         884992    \n",
            "                                                                 \n",
            " max_pooling2d_5 (MaxPoolin  (None, 1, 1, 256)         0         \n",
            " g2D)                                                            \n",
            "                                                                 \n",
            " flatten_1 (Flatten)         (None, 256)               0         \n",
            "                                                                 \n",
            " dense_3 (Dense)             (None, 4096)              1052672   \n",
            "                                                                 \n",
            " dropout_2 (Dropout)         (None, 4096)              0         \n",
            "                                                                 \n",
            " dense_4 (Dense)             (None, 4096)              16781312  \n",
            "                                                                 \n",
            " dropout_3 (Dropout)         (None, 4096)              0         \n",
            "                                                                 \n",
            " dense_5 (Dense)             (None, 10)                40970     \n",
            "                                                                 \n",
            "=================================================================\n",
            "Total params: 21589898 (82.36 MB)\n",
            "Trainable params: 21589898 (82.36 MB)\n",
            "Non-trainable params: 0 (0.00 Byte)\n",
            "_________________________________________________________________\n",
            "Model: \"sequential_1\"\n",
            "_________________________________________________________________\n",
            " Layer (type)                Output Shape              Param #   \n",
            "=================================================================\n",
            " conv2d_5 (Conv2D)           (None, 8, 8, 96)          2688      \n",
            "                                                                 \n",
            " max_pooling2d_3 (MaxPoolin  (None, 4, 4, 96)          0         \n",
            " g2D)                                                            \n",
            "                                                                 \n",
            " conv2d_6 (Conv2D)           (None, 4, 4, 256)         614656    \n",
            "                                                                 \n",
            " max_pooling2d_4 (MaxPoolin  (None, 2, 2, 256)         0         \n",
            " g2D)                                                            \n",
            "                                                                 \n",
            " conv2d_7 (Conv2D)           (None, 2, 2, 384)         885120    \n",
            "                                                                 \n",
            " conv2d_8 (Conv2D)           (None, 2, 2, 384)         1327488   \n",
            "                                                                 \n",
            " conv2d_9 (Conv2D)           (None, 2, 2, 256)         884992    \n",
            "                                                                 \n",
            " max_pooling2d_5 (MaxPoolin  (None, 1, 1, 256)         0         \n",
            " g2D)                                                            \n",
            "                                                                 \n",
            " flatten_1 (Flatten)         (None, 256)               0         \n",
            "                                                                 \n",
            " dense_3 (Dense)             (None, 4096)              1052672   \n",
            "                                                                 \n",
            " dropout_2 (Dropout)         (None, 4096)              0         \n",
            "                                                                 \n",
            " dense_4 (Dense)             (None, 4096)              16781312  \n",
            "                                                                 \n",
            " dropout_3 (Dropout)         (None, 4096)              0         \n",
            "                                                                 \n",
            " dense_5 (Dense)             (None, 10)                40970     \n",
            "                                                                 \n",
            "=================================================================\n",
            "Total params: 21589898 (82.36 MB)\n",
            "Trainable params: 21589898 (82.36 MB)\n",
            "Non-trainable params: 0 (0.00 Byte)\n",
            "_________________________________________________________________\n"
          ]
        }
      ]
    },
    {
      "cell_type": "code",
      "source": [
        "# Train model\n",
        "checkpoint = keras.callbacks.ModelCheckpoint('best_model.h5',\n",
        "                                             monitor='val_loss',\n",
        "                                             save_best_only=True)\n",
        "\n",
        "history = model.fit(x_train, y_train,\n",
        "                    batch_size=128,\n",
        "                    epochs=20,\n",
        "                    validation_split=0.2)    #callbacks=[checkpoint]"
      ],
      "metadata": {
        "colab": {
          "base_uri": "https://localhost:8080/"
        },
        "id": "WqCykJatgyMX",
        "outputId": "4ba4dedd-6e99-4129-fa16-74b0ec5a4fe1"
      },
      "execution_count": 5,
      "outputs": [
        {
          "output_type": "stream",
          "name": "stdout",
          "text": [
            "Epoch 1/20\n",
            "313/313 [==============================] - 17s 26ms/step - loss: 1.9775 - accuracy: 0.2064 - val_loss: 1.7241 - val_accuracy: 0.3132\n",
            "Epoch 2/20\n",
            "313/313 [==============================] - 6s 19ms/step - loss: 1.6119 - accuracy: 0.3753 - val_loss: 1.5131 - val_accuracy: 0.4416\n",
            "Epoch 3/20\n",
            "313/313 [==============================] - 6s 20ms/step - loss: 1.4062 - accuracy: 0.4778 - val_loss: 1.3938 - val_accuracy: 0.4976\n",
            "Epoch 4/20\n",
            "313/313 [==============================] - 6s 20ms/step - loss: 1.2798 - accuracy: 0.5336 - val_loss: 1.3442 - val_accuracy: 0.5150\n",
            "Epoch 5/20\n",
            "313/313 [==============================] - 6s 20ms/step - loss: 1.1812 - accuracy: 0.5753 - val_loss: 1.2648 - val_accuracy: 0.5525\n",
            "Epoch 6/20\n",
            "313/313 [==============================] - 6s 20ms/step - loss: 1.0920 - accuracy: 0.6079 - val_loss: 1.2482 - val_accuracy: 0.5535\n",
            "Epoch 7/20\n",
            "313/313 [==============================] - 7s 21ms/step - loss: 1.0172 - accuracy: 0.6374 - val_loss: 1.1864 - val_accuracy: 0.5802\n",
            "Epoch 8/20\n",
            "313/313 [==============================] - 6s 20ms/step - loss: 0.9644 - accuracy: 0.6575 - val_loss: 1.2967 - val_accuracy: 0.5702\n",
            "Epoch 9/20\n",
            "313/313 [==============================] - 6s 20ms/step - loss: 0.8853 - accuracy: 0.6875 - val_loss: 1.2062 - val_accuracy: 0.5893\n",
            "Epoch 10/20\n",
            "313/313 [==============================] - 6s 20ms/step - loss: 0.8377 - accuracy: 0.7045 - val_loss: 1.2186 - val_accuracy: 0.5941\n",
            "Epoch 11/20\n",
            "313/313 [==============================] - 7s 21ms/step - loss: 0.7652 - accuracy: 0.7303 - val_loss: 1.3923 - val_accuracy: 0.5758\n",
            "Epoch 12/20\n",
            "313/313 [==============================] - 6s 20ms/step - loss: 0.7052 - accuracy: 0.7524 - val_loss: 1.3129 - val_accuracy: 0.5867\n",
            "Epoch 13/20\n",
            "313/313 [==============================] - 7s 21ms/step - loss: 0.6528 - accuracy: 0.7703 - val_loss: 1.3897 - val_accuracy: 0.5780\n",
            "Epoch 14/20\n",
            "313/313 [==============================] - 6s 20ms/step - loss: 0.6005 - accuracy: 0.7891 - val_loss: 1.4329 - val_accuracy: 0.5813\n",
            "Epoch 15/20\n",
            "313/313 [==============================] - 6s 20ms/step - loss: 0.5440 - accuracy: 0.8082 - val_loss: 1.4243 - val_accuracy: 0.5838\n",
            "Epoch 16/20\n",
            "313/313 [==============================] - 6s 21ms/step - loss: 0.5026 - accuracy: 0.8269 - val_loss: 1.5300 - val_accuracy: 0.5848\n",
            "Epoch 17/20\n",
            "313/313 [==============================] - 6s 20ms/step - loss: 0.4557 - accuracy: 0.8406 - val_loss: 1.6115 - val_accuracy: 0.5913\n",
            "Epoch 18/20\n",
            "313/313 [==============================] - 6s 20ms/step - loss: 0.4116 - accuracy: 0.8580 - val_loss: 1.7114 - val_accuracy: 0.5830\n",
            "Epoch 19/20\n",
            "313/313 [==============================] - 7s 21ms/step - loss: 0.3833 - accuracy: 0.8661 - val_loss: 1.7386 - val_accuracy: 0.5867\n",
            "Epoch 20/20\n",
            "313/313 [==============================] - 6s 21ms/step - loss: 0.3406 - accuracy: 0.8829 - val_loss: 1.8437 - val_accuracy: 0.5800\n"
          ]
        }
      ]
    },
    {
      "cell_type": "code",
      "source": [
        "print(history.params)"
      ],
      "metadata": {
        "colab": {
          "base_uri": "https://localhost:8080/"
        },
        "id": "Y3T_T5d6yBsJ",
        "outputId": "27d59f64-d01e-4062-bb82-ae06c20eb98d"
      },
      "execution_count": 10,
      "outputs": [
        {
          "output_type": "stream",
          "name": "stdout",
          "text": [
            "{'verbose': 1, 'epochs': 20, 'steps': 313}\n"
          ]
        }
      ]
    },
    {
      "cell_type": "code",
      "source": [
        "# Evaluate model on test data\n",
        "test_loss, test_accuracy = model.evaluate(x_test, y_test)\n",
        "print(f'Test loss: {test_loss:.4f}')\n",
        "print(f'Test accuracy: {test_accuracy:.4f}')"
      ],
      "metadata": {
        "colab": {
          "base_uri": "https://localhost:8080/"
        },
        "id": "dzZBAAxyyTSJ",
        "outputId": "24d6d1a3-6b93-443b-d2e2-c7b551f9c00a"
      },
      "execution_count": 8,
      "outputs": [
        {
          "output_type": "stream",
          "name": "stdout",
          "text": [
            "313/313 [==============================] - 2s 4ms/step - loss: 1.8536 - accuracy: 0.5782\n",
            "Test loss: 1.8536\n",
            "Test accuracy: 0.5782\n"
          ]
        }
      ]
    },
    {
      "cell_type": "code",
      "source": [
        "\n",
        "# Print final validation accuracy\n",
        "#print(f'Final Validation Accuracy: {val_accuracy_list[-1]}%')\n",
        "# Calculate total number of parameters\n",
        "#total_params = sum(p.numel() for p in net.parameters())\n",
        "#print(f'Total number of parameters in the model: {total_params}')\n",
        "\n",
        "# Plotting training and validation loss\n",
        "plt.plot(history.history['loss'], label='Training Loss')\n",
        "plt.plot(history.history['val_loss'], label='Validation Loss')\n",
        "plt.xlabel('Epoch')\n",
        "plt.ylabel('Loss')\n",
        "plt.title('Training and Validation Loss')\n",
        "plt.legend()\n",
        "#plt.savefig('temp/ResNet_training_validation_loss.png')\n",
        "plt.show()"
      ],
      "metadata": {
        "colab": {
          "base_uri": "https://localhost:8080/",
          "height": 472
        },
        "id": "k4QD4Zflxu7q",
        "outputId": "fb28a6c3-4091-4d75-886a-fb97e9159580"
      },
      "execution_count": 14,
      "outputs": [
        {
          "output_type": "display_data",
          "data": {
            "text/plain": [
              "<Figure size 640x480 with 1 Axes>"
            ],
            "image/png": "[encoded data removed]"
          },
          "metadata": {}
        }
      ]
    }
  ]
}