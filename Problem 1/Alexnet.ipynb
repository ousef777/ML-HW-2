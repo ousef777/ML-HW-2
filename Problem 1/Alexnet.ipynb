{
  "nbformat": 4,
  "nbformat_minor": 0,
  "metadata": {
    "colab": {
      "provenance": [],
      "gpuType": "T4"
    },
    "kernelspec": {
      "name": "python3",
      "display_name": "Python 3"
    },
    "language_info": {
      "name": "python"
    },
    "accelerator": "GPU"
  },
  "cells": [
    {
      "cell_type": "code",
      "execution_count": 1,
      "metadata": {
        "id": "zVANKirkgSoF"
      },
      "outputs": [],
      "source": [
        "import datetime\n",
        "import numpy as np\n",
        "import os\n",
        "import tensorflow as tf\n",
        "import matplotlib.pyplot as plt\n",
        "from tqdm import tqdm\n",
        "\n",
        "from tensorflow.keras import Model\n",
        "from tensorflow.keras.models import Sequential\n",
        "from tensorflow.keras.utils import to_categorical\n",
        "from tensorflow.keras.losses import categorical_crossentropy\n",
        "from tensorflow.keras.preprocessing.image import ImageDataGenerator\n",
        "from tensorflow.keras.layers import Dense, Flatten, Conv2D, MaxPooling2D, Dropout"
      ]
    },
    {
      "cell_type": "code",
      "source": [
        "import keras\n",
        "# Load and preprocess data\n",
        "(x_train, y_train), (x_test, y_test) = keras.datasets.cifar10.load_data()\n",
        "x_train, x_test = x_train / 255.0, x_test / 255.0\n",
        "y_train = keras.utils.to_categorical(y_train, 10)\n",
        "y_test = keras.utils.to_categorical(y_test, 10)"
      ],
      "metadata": {
        "id": "q1jKg8iHgX-I",
        "colab": {
          "base_uri": "https://localhost:8080/"
        },
        "outputId": "629959d9-9992-4c74-e6ab-dddf6ae34c1d"
      },
      "execution_count": 2,
      "outputs": [
        {
          "output_type": "stream",
          "name": "stdout",
          "text": [
            "Downloading data from https://www.cs.toronto.edu/~kriz/cifar-10-python.tar.gz\n",
            "170498071/170498071 [==============================] - 4s 0us/step\n"
          ]
        }
      ]
    },
    {
      "cell_type": "code",
      "source": [
        "#Define Alexnet Model\n",
        "def AlexnetModel(input_shape,num_classes):\n",
        "  model = Sequential()\n",
        "  model.add(Conv2D(filters=96,kernel_size=(3,3),strides=(4,4),input_shape=input_shape, activation='relu'))\n",
        "  model.add(MaxPooling2D(pool_size=(2,2),strides=(2,2)))\n",
        "  model.add(Conv2D(256,(5,5),padding='same',activation='relu'))\n",
        "  model.add(MaxPooling2D(pool_size=(2,2),strides=(2,2)))\n",
        "  model.add(Conv2D(384,(3,3),padding='same',activation='relu'))\n",
        "  model.add(Conv2D(384,(3,3),padding='same',activation='relu'))\n",
        "  model.add(Conv2D(256,(3,3),padding='same',activation='relu'))\n",
        "  model.add(MaxPooling2D(pool_size=(2,2),strides=(2,2)))\n",
        "\n",
        "  model.add(Flatten())\n",
        "  model.add(Dense(4096, activation='relu'))\n",
        "  #model.add(Dropout(0.4))\n",
        "  model.add(Dense(4096, activation='relu'))\n",
        "  #model.add(Dropout(0.4))\n",
        "  model.add(Dense(num_classes,activation='softmax'))\n",
        "\n",
        "  model.compile(optimizer='adam',loss='categorical_crossentropy',metrics=['accuracy'])\n",
        "\n",
        "  return model"
      ],
      "metadata": {
        "id": "HV8XzcXCgaqQ"
      },
      "execution_count": 3,
      "outputs": []
    },
    {
      "cell_type": "code",
      "source": [
        "num_classes = 10\n",
        "model = AlexnetModel((32, 32, 3), num_classes)\n",
        "model.summary()"
      ],
      "metadata": {
        "colab": {
          "base_uri": "https://localhost:8080/"
        },
        "id": "OWmSkRc1gi2O",
        "outputId": "fdb59a9a-abab-4cf4-a753-70c9ec2b5a49"
      },
      "execution_count": 4,
      "outputs": [
        {
          "output_type": "stream",
          "name": "stdout",
          "text": [
            "Model: \"sequential\"\n",
            "_________________________________________________________________\n",
            " Layer (type)                Output Shape              Param #   \n",
            "=================================================================\n",
            " conv2d (Conv2D)             (None, 8, 8, 96)          2688      \n",
            "                                                                 \n",
            " max_pooling2d (MaxPooling2  (None, 4, 4, 96)          0         \n",
            " D)                                                              \n",
            "                                                                 \n",
            " conv2d_1 (Conv2D)           (None, 4, 4, 256)         614656    \n",
            "                                                                 \n",
            " max_pooling2d_1 (MaxPoolin  (None, 2, 2, 256)         0         \n",
            " g2D)                                                            \n",
            "                                                                 \n",
            " conv2d_2 (Conv2D)           (None, 2, 2, 384)         885120    \n",
            "                                                                 \n",
            " conv2d_3 (Conv2D)           (None, 2, 2, 384)         1327488   \n",
            "                                                                 \n",
            " conv2d_4 (Conv2D)           (None, 2, 2, 256)         884992    \n",
            "                                                                 \n",
            " max_pooling2d_2 (MaxPoolin  (None, 1, 1, 256)         0         \n",
            " g2D)                                                            \n",
            "                                                                 \n",
            " flatten (Flatten)           (None, 256)               0         \n",
            "                                                                 \n",
            " dense (Dense)               (None, 4096)              1052672   \n",
            "                                                                 \n",
            " dense_1 (Dense)             (None, 4096)              16781312  \n",
            "                                                                 \n",
            " dense_2 (Dense)             (None, 10)                40970     \n",
            "                                                                 \n",
            "=================================================================\n",
            "Total params: 21589898 (82.36 MB)\n",
            "Trainable params: 21589898 (82.36 MB)\n",
            "Non-trainable params: 0 (0.00 Byte)\n",
            "_________________________________________________________________\n"
          ]
        }
      ]
    },
    {
      "cell_type": "code",
      "source": [
        "# Train model\n",
        "checkpoint = keras.callbacks.ModelCheckpoint('best_model.h5',\n",
        "                                             monitor='val_loss',\n",
        "                                             save_best_only=True)\n",
        "\n",
        "history = model.fit(x_train, y_train,\n",
        "                    batch_size=128,\n",
        "                    epochs=20,\n",
        "                    validation_split=0.2)    #callbacks=[checkpoint]"
      ],
      "metadata": {
        "colab": {
          "base_uri": "https://localhost:8080/"
        },
        "id": "WqCykJatgyMX",
        "outputId": "4cefceb4-65e1-4a96-e2a8-3de1dd487cb1"
      },
      "execution_count": 5,
      "outputs": [
        {
          "output_type": "stream",
          "name": "stdout",
          "text": [
            "Epoch 1/20\n",
            "313/313 [==============================] - 14s 24ms/step - loss: 2.0592 - accuracy: 0.1751 - val_loss: 1.9112 - val_accuracy: 0.2207\n",
            "Epoch 2/20\n",
            "313/313 [==============================] - 6s 19ms/step - loss: 1.7146 - accuracy: 0.3219 - val_loss: 1.5789 - val_accuracy: 0.3957\n",
            "Epoch 3/20\n",
            "313/313 [==============================] - 6s 19ms/step - loss: 1.4629 - accuracy: 0.4539 - val_loss: 1.4645 - val_accuracy: 0.4573\n",
            "Epoch 4/20\n",
            "313/313 [==============================] - 6s 19ms/step - loss: 1.3151 - accuracy: 0.5194 - val_loss: 1.3480 - val_accuracy: 0.5242\n",
            "Epoch 5/20\n",
            "313/313 [==============================] - 6s 20ms/step - loss: 1.2099 - accuracy: 0.5646 - val_loss: 1.2617 - val_accuracy: 0.5436\n",
            "Epoch 6/20\n",
            "313/313 [==============================] - 6s 19ms/step - loss: 1.1343 - accuracy: 0.5904 - val_loss: 1.2986 - val_accuracy: 0.5387\n",
            "Epoch 7/20\n",
            "313/313 [==============================] - 6s 20ms/step - loss: 1.0627 - accuracy: 0.6159 - val_loss: 1.2643 - val_accuracy: 0.5623\n",
            "Epoch 8/20\n",
            "313/313 [==============================] - 6s 19ms/step - loss: 0.9897 - accuracy: 0.6455 - val_loss: 1.1998 - val_accuracy: 0.5867\n",
            "Epoch 9/20\n",
            "313/313 [==============================] - 6s 21ms/step - loss: 0.9274 - accuracy: 0.6688 - val_loss: 1.2232 - val_accuracy: 0.5771\n",
            "Epoch 10/20\n",
            "313/313 [==============================] - 6s 20ms/step - loss: 0.8627 - accuracy: 0.6938 - val_loss: 1.2411 - val_accuracy: 0.5844\n",
            "Epoch 11/20\n",
            "313/313 [==============================] - 6s 20ms/step - loss: 0.8058 - accuracy: 0.7115 - val_loss: 1.2556 - val_accuracy: 0.5934\n",
            "Epoch 12/20\n",
            "313/313 [==============================] - 6s 20ms/step - loss: 0.7381 - accuracy: 0.7373 - val_loss: 1.2982 - val_accuracy: 0.5892\n",
            "Epoch 13/20\n",
            "313/313 [==============================] - 6s 21ms/step - loss: 0.6857 - accuracy: 0.7541 - val_loss: 1.3545 - val_accuracy: 0.5891\n",
            "Epoch 14/20\n",
            "313/313 [==============================] - 6s 20ms/step - loss: 0.6282 - accuracy: 0.7775 - val_loss: 1.4282 - val_accuracy: 0.5887\n",
            "Epoch 15/20\n",
            "313/313 [==============================] - 6s 20ms/step - loss: 0.5671 - accuracy: 0.7997 - val_loss: 1.4596 - val_accuracy: 0.5795\n",
            "Epoch 16/20\n",
            "313/313 [==============================] - 6s 20ms/step - loss: 0.5162 - accuracy: 0.8167 - val_loss: 1.5614 - val_accuracy: 0.5858\n",
            "Epoch 17/20\n",
            "313/313 [==============================] - 6s 20ms/step - loss: 0.4739 - accuracy: 0.8328 - val_loss: 1.6662 - val_accuracy: 0.5757\n",
            "Epoch 18/20\n",
            "313/313 [==============================] - 6s 20ms/step - loss: 0.4172 - accuracy: 0.8531 - val_loss: 1.6734 - val_accuracy: 0.5769\n",
            "Epoch 19/20\n",
            "313/313 [==============================] - 6s 20ms/step - loss: 0.3737 - accuracy: 0.8695 - val_loss: 1.7969 - val_accuracy: 0.5772\n",
            "Epoch 20/20\n",
            "313/313 [==============================] - 6s 20ms/step - loss: 0.3338 - accuracy: 0.8818 - val_loss: 1.9576 - val_accuracy: 0.5794\n"
          ]
        }
      ]
    },
    {
      "cell_type": "code",
      "source": [
        "print(history.params)"
      ],
      "metadata": {
        "colab": {
          "base_uri": "https://localhost:8080/"
        },
        "id": "Y3T_T5d6yBsJ",
        "outputId": "27d59f64-d01e-4062-bb82-ae06c20eb98d"
      },
      "execution_count": null,
      "outputs": [
        {
          "output_type": "stream",
          "name": "stdout",
          "text": [
            "{'verbose': 1, 'epochs': 20, 'steps': 313}\n"
          ]
        }
      ]
    },
    {
      "cell_type": "code",
      "source": [
        "# Evaluate model on test data\n",
        "test_loss, test_accuracy = model.evaluate(x_test, y_test)\n",
        "print(f'Test loss: {test_loss:.4f}')\n",
        "print(f'Test accuracy: {test_accuracy:.4f}')"
      ],
      "metadata": {
        "colab": {
          "base_uri": "https://localhost:8080/"
        },
        "id": "dzZBAAxyyTSJ",
        "outputId": "3ae7e0f8-625f-4c46-8964-270b1d10adc2"
      },
      "execution_count": 6,
      "outputs": [
        {
          "output_type": "stream",
          "name": "stdout",
          "text": [
            "313/313 [==============================] - 2s 4ms/step - loss: 1.9577 - accuracy: 0.5671\n",
            "Test loss: 1.9577\n",
            "Test accuracy: 0.5671\n"
          ]
        }
      ]
    },
    {
      "cell_type": "code",
      "source": [
        "history.history.keys()"
      ],
      "metadata": {
        "colab": {
          "base_uri": "https://localhost:8080/"
        },
        "id": "bVP-0iGK5PHt",
        "outputId": "dbe9bc9a-53db-4307-e9b7-fb9532f7d633"
      },
      "execution_count": 13,
      "outputs": [
        {
          "output_type": "execute_result",
          "data": {
            "text/plain": [
              "dict_keys(['loss', 'accuracy', 'val_loss', 'val_accuracy'])"
            ]
          },
          "metadata": {},
          "execution_count": 13
        }
      ]
    },
    {
      "cell_type": "code",
      "source": [
        "history.history.values\n",
        "# Print final validation accuracy\n",
        "#print(f'Final Validation Accuracy: {val_accuracy_list[-1]}%')\n",
        "# Calculate total number of parameters\n",
        "#total_params = sum(p.numel() for p in net.parameters())\n",
        "#print(f'Total number of parameters in the model: {total_params}')\n",
        "\n",
        "# Plotting training and validation loss\n",
        "plt.plot(history.history['loss'], label='Training Loss')\n",
        "plt.plot(history.history['val_loss'], label='Validation Loss')\n",
        "plt.xlabel('Epoch')\n",
        "plt.ylabel('Loss')\n",
        "plt.title('Training and Validation Loss')\n",
        "plt.legend()\n",
        "#plt.savefig('temp/ResNet_training_validation_loss.png')\n",
        "plt.show()"
      ],
      "metadata": {
        "id": "k4QD4Zflxu7q",
        "colab": {
          "base_uri": "https://localhost:8080/",
          "height": 472
        },
        "outputId": "e8d19d5d-fe09-429f-de0a-6520d4cb99a2"
      },
      "execution_count": 14,
      "outputs": [
        {
          "output_type": "display_data",
          "data": {
            "text/plain": [
              "<Figure size 640x480 with 1 Axes>"
            ],
            "image/png": "[encoded data removed]"
          },
          "metadata": {}
        }
      ]
    }
  ]
}